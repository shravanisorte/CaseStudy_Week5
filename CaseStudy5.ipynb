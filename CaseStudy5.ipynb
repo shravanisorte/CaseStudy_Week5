{
 "cells": [
  {
   "cell_type": "code",
   "execution_count": 0,
   "metadata": {
    "application/vnd.databricks.v1+cell": {
     "cellMetadata": {
      "byteLimit": 2048000,
      "rowLimit": 10000
     },
     "inputWidgets": {},
     "nuid": "ff7a475b-64c4-4085-8713-02eab8021b40",
     "showTitle": false,
     "tableResultSettingsMap": {},
     "title": ""
    }
   },
   "outputs": [
    {
     "output_type": "stream",
     "name": "stdout",
     "output_type": "stream",
     "text": [
      "hello\n"
     ]
    }
   ],
   "source": [
    "print(\"hello\")"
   ]
  },
  {
   "cell_type": "code",
   "execution_count": 0,
   "metadata": {
    "application/vnd.databricks.v1+cell": {
     "cellMetadata": {
      "byteLimit": 2048000,
      "rowLimit": 10000
     },
     "inputWidgets": {},
     "nuid": "fad0e881-3885-4408-9e97-5edb5ec6c7b3",
     "showTitle": false,
     "tableResultSettingsMap": {},
     "title": ""
    }
   },
   "outputs": [
    {
     "output_type": "stream",
     "name": "stdout",
     "output_type": "stream",
     "text": [
      "Requirement already satisfied: pydeequ in /local_disk0/.ephemeral_nfs/envs/pythonEnv-b70f54ca-2922-4cdc-934b-971bb97f7a54/lib/python3.12/site-packages (1.5.0)\nRequirement already satisfied: numpy>=1.14.1 in /databricks/python3/lib/python3.12/site-packages (from pydeequ) (1.26.4)\nRequirement already satisfied: pandas>=0.23.0 in /databricks/python3/lib/python3.12/site-packages (from pydeequ) (1.5.3)\nRequirement already satisfied: python-dateutil>=2.8.1 in /databricks/python3/lib/python3.12/site-packages (from pandas>=0.23.0->pydeequ) (2.9.0.post0)\nRequirement already satisfied: pytz>=2020.1 in /databricks/python3/lib/python3.12/site-packages (from pandas>=0.23.0->pydeequ) (2024.1)\nRequirement already satisfied: six>=1.5 in /usr/lib/python3/dist-packages (from python-dateutil>=2.8.1->pandas>=0.23.0->pydeequ) (1.16.0)\n\u001B[43mNote: you may need to restart the kernel using %restart_python or dbutils.library.restartPython() to use updated packages.\u001B[0m\n"
     ]
    }
   ],
   "source": [
    "!pip install pydeequ"
   ]
  },
  {
   "cell_type": "code",
   "execution_count": 0,
   "metadata": {
    "application/vnd.databricks.v1+cell": {
     "cellMetadata": {
      "byteLimit": 2048000,
      "rowLimit": 10000
     },
     "inputWidgets": {},
     "nuid": "69b34e2b-f3f0-451d-a13f-5445867aec52",
     "showTitle": false,
     "tableResultSettingsMap": {},
     "title": ""
    }
   },
   "outputs": [],
   "source": [
    "%restart_python"
   ]
  },
  {
   "cell_type": "code",
   "execution_count": 0,
   "metadata": {
    "application/vnd.databricks.v1+cell": {
     "cellMetadata": {
      "byteLimit": 2048000,
      "rowLimit": 10000
     },
     "inputWidgets": {},
     "nuid": "54dcd020-1605-4aa5-a6f6-2c30894c5401",
     "showTitle": false,
     "tableResultSettingsMap": {},
     "title": ""
    }
   },
   "outputs": [
    {
     "output_type": "stream",
     "name": "stdout",
     "output_type": "stream",
     "text": [
      "Reading data from: output/\n"
     ]
    }
   ],
   "source": [
    "dbutils.widgets.text(\"input_path\", \"\")\n",
    "input_path = dbutils.widgets.get(\"input_path\")\n",
    "\n",
    "print(f\"Reading data from: {input_path}\")"
   ]
  },
  {
   "cell_type": "code",
   "execution_count": 0,
   "metadata": {
    "application/vnd.databricks.v1+cell": {
     "cellMetadata": {
      "byteLimit": 2048000,
      "rowLimit": 10000
     },
     "inputWidgets": {},
     "nuid": "627d2baf-7500-4946-95b6-298a23c5af1d",
     "showTitle": false,
     "tableResultSettingsMap": {},
     "title": ""
    }
   },
   "outputs": [
    {
     "output_type": "execute_result",
     "data": {
      "text/plain": [
       "[FileInfo(path='wasbs://folder@storage1srs.blob.core.windows.net/_SUCCESS', name='_SUCCESS', size=0, modificationTime=1755238335000),\n",
       " FileInfo(path='wasbs://folder@storage1srs.blob.core.windows.net/output/', name='output/', size=0, modificationTime=1755243083000),\n",
       " FileInfo(path='wasbs://folder@storage1srs.blob.core.windows.net/part-00000-69436a35-67b2-4b62-96ac-cde31f75e264-c000.csv', name='part-00000-69436a35-67b2-4b62-96ac-cde31f75e264-c000.csv', size=520, modificationTime=1755238335000)]"
      ]
     },
     "execution_count": 2,
     "metadata": {},
     "output_type": "execute_result"
    }
   ],
   "source": [
    "# Your SAS token (remove leading '?')\n",
    "sas_token = \"sp=racwdli&st=2025-08-15T06:55:55Z&se=2025-08-15T15:10:55Z&sv=2024-11-04&sr=c&sig=FGloLJXmQl2lYrh8zSTOOiwGtXdrLOvR9jseeLM1ZL4%3D\"\n",
    "\n",
    "# 2. Container and account from your path\n",
    "# Example: abfss://output@storage1srs.dfs.core.windows.net/...\n",
    "container_name = \"folder\"\n",
    "storage_account_name = \"storage1srs\"\n",
    "\n",
    "# 3. Configure Spark to use SAS token\n",
    "spark.conf.set(\n",
    "    f\"fs.azure.sas.{container_name}.{storage_account_name}.blob.core.windows.net\",\n",
    "    sas_token\n",
    ")\n",
    "\n",
    "dbutils.fs.ls(f\"wasbs://{container_name}@{storage_account_name}.blob.core.windows.net/\")"
   ]
  },
  {
   "cell_type": "code",
   "execution_count": 0,
   "metadata": {
    "application/vnd.databricks.v1+cell": {
     "cellMetadata": {
      "byteLimit": 2048000,
      "rowLimit": 10000
     },
     "inputWidgets": {},
     "nuid": "3aee2bff-de5e-4a11-a24f-906942bd5f64",
     "showTitle": false,
     "tableResultSettingsMap": {},
     "title": ""
    }
   },
   "outputs": [
    {
     "output_type": "stream",
     "name": "stdout",
     "output_type": "stream",
     "text": [
      "Reading IoT data from: wasbs://folder@storage1srs.blob.core.windows.net/output/\n"
     ]
    }
   ],
   "source": [
    "d_path = f\"wasbs://{container_name}@{storage_account_name}.blob.core.windows.net/{input_path}\"\n",
    "\n",
    "# 4. Read the CSV\n",
    "print(f\"Reading IoT data from: {d_path}\")\n",
    "\n",
    "df = spark.read.csv(d_path)"
   ]
  },
  {
   "cell_type": "code",
   "execution_count": 0,
   "metadata": {
    "application/vnd.databricks.v1+cell": {
     "cellMetadata": {
      "byteLimit": 2048000,
      "rowLimit": 10000
     },
     "inputWidgets": {},
     "nuid": "2f06ac6a-fdb8-4a0f-8012-2183e68a6e97",
     "showTitle": false,
     "tableResultSettingsMap": {},
     "title": ""
    }
   },
   "outputs": [
    {
     "output_type": "stream",
     "name": "stdout",
     "output_type": "stream",
     "text": [
      "root\n |-- PlantID: string (nullable = true)\n |-- DeviceID: string (nullable = true)\n |-- Timestamp_UTC: timestamp (nullable = true)\n |-- Temperature_C: double (nullable = true)\n |-- Humidity_pct: double (nullable = true)\n |-- Vibration_mm_s: double (nullable = true)\n |-- Pressure_bar: double (nullable = true)\n |-- Energy_kWh: double (nullable = true)\n |-- Status: string (nullable = true)\n\n+-------+---------+-------------------+-------------+------------+--------------+------------+----------+-------+\n|PlantID| DeviceID|      Timestamp_UTC|Temperature_C|Humidity_pct|Vibration_mm_s|Pressure_bar|Energy_kWh| Status|\n+-------+---------+-------------------+-------------+------------+--------------+------------+----------+-------+\n|PLANT_B|SENSOR_B2|2025-08-14 09:00:20|         69.5|        47.5|           2.3|         3.0|       5.0|     OK|\n|PLANT_B|SENSOR_B3|2025-08-14 09:00:25|         70.0|        47.8|           2.2|         3.2|       5.1|WARNING|\n|PLANT_A|SENSOR_A2|2025-08-14 09:00:05|         71.9|        46.2|           2.0|         3.3|       5.5|     OK|\n|PLANT_A|SENSOR_A1|2025-08-14 09:00:00|         72.4|        45.6|           2.1|         3.2|       5.4|     OK|\n|PLANT_A|SENSOR_A3|2025-08-14 09:00:10|         73.1|        45.8|           2.4|         3.4|       5.6|     OK|\n|PLANT_C|SENSOR_C2|2025-08-14 09:00:35|         74.8|        45.2|           2.8|         3.4|       5.8|  ALERT|\n|PLANT_C|SENSOR_C3|2025-08-14 09:00:40|         75.0|        45.1|           2.5|         3.6|       5.9|     OK|\n|PLANT_C|SENSOR_C1|2025-08-14 09:00:30|         75.3|        44.9|           2.6|         3.5|       5.7|     OK|\n+-------+---------+-------------------+-------------+------------+--------------+------------+----------+-------+\n\n"
     ]
    }
   ],
   "source": [
    "columns = [\n",
    "    \"PlantID\",\n",
    "    \"DeviceID\",\n",
    "    \"Timestamp_UTC\",\n",
    "    \"Temperature_C\",\n",
    "    \"Humidity_pct\",\n",
    "    \"Vibration_mm_s\",\n",
    "    \"Pressure_bar\",\n",
    "    \"Energy_kWh\",\n",
    "    \"Status\"\n",
    "]\n",
    "\n",
    "# Read CSV without using the header from file\n",
    "df = spark.read.format(\"csv\") \\\n",
    "    .option(\"header\", \"false\") \\\n",
    "    .option(\"inferSchema\", \"true\") \\\n",
    "    .load(d_path) \\\n",
    "    .toDF(*columns)\n",
    "\n",
    "df.printSchema()\n",
    "df.show()"
   ]
  },
  {
   "cell_type": "code",
   "execution_count": 0,
   "metadata": {
    "application/vnd.databricks.v1+cell": {
     "cellMetadata": {
      "byteLimit": 2048000,
      "rowLimit": 10000
     },
     "inputWidgets": {},
     "nuid": "57ec1df5-a272-403e-8dfc-47708aefd8e0",
     "showTitle": false,
     "tableResultSettingsMap": {},
     "title": ""
    }
   },
   "outputs": [],
   "source": [
    "import os\n",
    "os.environ[\"SPARK_VERSION\"] = \"3.3\"\n",
    "os.environ['PYSPARK_SUBMIT_ARGS'] = '--conf spark.sql.shuffle.partitions=8 pyspark-shell'\n",
    "import json\n",
    "from pyspark.sql import SparkSession\n",
    "from pydeequ.checks import Check, CheckLevel\n",
    "from pydeequ.verification import VerificationSuite\n",
    "from pyspark.sql.types import StructType, StructField, StringType\n",
    "from pyspark.sql.functions import col"
   ]
  },
  {
   "cell_type": "code",
   "execution_count": 0,
   "metadata": {
    "application/vnd.databricks.v1+cell": {
     "cellMetadata": {
      "byteLimit": 2048000,
      "rowLimit": 10000
     },
     "inputWidgets": {},
     "nuid": "97ab6687-965e-455b-be16-8542771c95ae",
     "showTitle": false,
     "tableResultSettingsMap": {},
     "title": ""
    }
   },
   "outputs": [],
   "source": [
    "df = df.withColumnRenamed(\"Timestamp (UTC)\", \"Timestamp_UTC\")"
   ]
  },
  {
   "cell_type": "code",
   "execution_count": 0,
   "metadata": {
    "application/vnd.databricks.v1+cell": {
     "cellMetadata": {
      "byteLimit": 2048000,
      "rowLimit": 10000
     },
     "inputWidgets": {},
     "nuid": "5b2c3134-31b6-42bf-8a85-15b6acfafd98",
     "showTitle": false,
     "tableResultSettingsMap": {},
     "title": ""
    }
   },
   "outputs": [],
   "source": [
    "check = (\n",
    "    Check(spark, CheckLevel.Error, \"IoT Data Quality Checks\")\n",
    "    .hasSize(lambda x: x >= 3)\n",
    "    .isNonNegative(\"Temperature_C\")\n",
    "    .isNonNegative(\"Humidity_pct\")\n",
    "    .isNonNegative(\"Vibration_mm_s\")\n",
    "    .isNonNegative(\"Pressure_bar\")\n",
    "    .isNonNegative(\"Energy_kWh\")\n",
    ")"
   ]
  },
  {
   "cell_type": "code",
   "execution_count": 0,
   "metadata": {
    "application/vnd.databricks.v1+cell": {
     "cellMetadata": {
      "byteLimit": 2048000,
      "rowLimit": 10000
     },
     "inputWidgets": {},
     "nuid": "4b8123eb-6ca5-4bfc-a509-328918c28a3b",
     "showTitle": false,
     "tableResultSettingsMap": {},
     "title": ""
    }
   },
   "outputs": [],
   "source": [
    "result = (\n",
    "    VerificationSuite(spark)\n",
    "    .onData(df)\n",
    "    .addCheck(check)\n",
    "    .run()\n",
    ")\n"
   ]
  },
  {
   "cell_type": "code",
   "execution_count": 0,
   "metadata": {
    "application/vnd.databricks.v1+cell": {
     "cellMetadata": {
      "byteLimit": 2048000,
      "rowLimit": 10000
     },
     "inputWidgets": {},
     "nuid": "23be5167-d6c8-405c-a02a-d8bc45e7df05",
     "showTitle": false,
     "tableResultSettingsMap": {},
     "title": ""
    }
   },
   "outputs": [],
   "source": [
    "result_dict = result.checkResults\n",
    "report_json = json.dumps(result_dict, indent=4)"
   ]
  },
  {
   "cell_type": "code",
   "execution_count": 0,
   "metadata": {
    "application/vnd.databricks.v1+cell": {
     "cellMetadata": {
      "byteLimit": 2048000,
      "rowLimit": 10000
     },
     "inputWidgets": {},
     "nuid": "2af321f3-2ced-48d5-a47f-e4d53f888ec9",
     "showTitle": false,
     "tableResultSettingsMap": {},
     "title": ""
    }
   },
   "outputs": [
    {
     "output_type": "stream",
     "name": "stdout",
     "output_type": "stream",
     "text": [
      "[\n    {\n        \"check_status\": \"Success\",\n        \"check_level\": \"Error\",\n        \"constraint_status\": \"Success\",\n        \"check\": \"IoT Data Quality Checks\",\n        \"constraint_message\": \"\",\n        \"constraint\": \"SizeConstraint(Size(None))\"\n    },\n    {\n        \"check_status\": \"Success\",\n        \"check_level\": \"Error\",\n        \"constraint_status\": \"Success\",\n        \"check\": \"IoT Data Quality Checks\",\n        \"constraint_message\": \"\",\n        \"constraint\": \"ComplianceConstraint(Compliance(Temperature_C is non-negative,COALESCE(CAST(Temperature_C AS DECIMAL(20,10)), 0.0) >= 0,None))\"\n    },\n    {\n        \"check_status\": \"Success\",\n        \"check_level\": \"Error\",\n        \"constraint_status\": \"Success\",\n        \"check\": \"IoT Data Quality Checks\",\n        \"constraint_message\": \"\",\n        \"constraint\": \"ComplianceConstraint(Compliance(Humidity_pct is non-negative,COALESCE(CAST(Humidity_pct AS DECIMAL(20,10)), 0.0) >= 0,None))\"\n    },\n    {\n        \"check_status\": \"Success\",\n        \"check_level\": \"Error\",\n        \"constraint_status\": \"Success\",\n        \"check\": \"IoT Data Quality Checks\",\n        \"constraint_message\": \"\",\n        \"constraint\": \"ComplianceConstraint(Compliance(Vibration_mm_s is non-negative,COALESCE(CAST(Vibration_mm_s AS DECIMAL(20,10)), 0.0) >= 0,None))\"\n    },\n    {\n        \"check_status\": \"Success\",\n        \"check_level\": \"Error\",\n        \"constraint_status\": \"Success\",\n        \"check\": \"IoT Data Quality Checks\",\n        \"constraint_message\": \"\",\n        \"constraint\": \"ComplianceConstraint(Compliance(Pressure_bar is non-negative,COALESCE(CAST(Pressure_bar AS DECIMAL(20,10)), 0.0) >= 0,None))\"\n    },\n    {\n        \"check_status\": \"Success\",\n        \"check_level\": \"Error\",\n        \"constraint_status\": \"Success\",\n        \"check\": \"IoT Data Quality Checks\",\n        \"constraint_message\": \"\",\n        \"constraint\": \"ComplianceConstraint(Compliance(Energy_kWh is non-negative,COALESCE(CAST(Energy_kWh AS DECIMAL(20,10)), 0.0) >= 0,None))\"\n    }\n]\n"
     ]
    }
   ],
   "source": [
    "print(report_json)"
   ]
  },
  {
   "cell_type": "code",
   "execution_count": 0,
   "metadata": {
    "application/vnd.databricks.v1+cell": {
     "cellMetadata": {
      "byteLimit": 2048000,
      "rowLimit": 10000
     },
     "inputWidgets": {},
     "nuid": "0addb72d-b4f6-48ec-a833-a6069827121c",
     "showTitle": false,
     "tableResultSettingsMap": {},
     "title": ""
    }
   },
   "outputs": [],
   "source": [
    "\n",
    "from pydeequ.verification import VerificationSuite, VerificationResult"
   ]
  },
  {
   "cell_type": "code",
   "execution_count": 0,
   "metadata": {
    "application/vnd.databricks.v1+cell": {
     "cellMetadata": {
      "byteLimit": 2048000,
      "rowLimit": 10000
     },
     "inputWidgets": {},
     "nuid": "9d59ed56-e464-49a4-9e08-ac718e015fa6",
     "showTitle": false,
     "tableResultSettingsMap": {},
     "title": ""
    }
   },
   "outputs": [
    {
     "output_type": "stream",
     "name": "stderr",
     "output_type": "stream",
     "text": [
      "/databricks/spark/python/pyspark/sql/dataframe.py:163: UserWarning: DataFrame constructor is internal. Do not directly use it.\n  warnings.warn(\"DataFrame constructor is internal. Do not directly use it.\")\n"
     ]
    },
    {
     "output_type": "stream",
     "name": "stdout",
     "output_type": "stream",
     "text": [
      "+-----------------------+-----------+------------+--------------------------------------------------------------------------------------------------------------------------------+-----------------+------------------+\n|check                  |check_level|check_status|constraint                                                                                                                      |constraint_status|constraint_message|\n+-----------------------+-----------+------------+--------------------------------------------------------------------------------------------------------------------------------+-----------------+------------------+\n|IoT Data Quality Checks|Error      |Success     |SizeConstraint(Size(None))                                                                                                      |Success          |                  |\n|IoT Data Quality Checks|Error      |Success     |ComplianceConstraint(Compliance(Temperature_C is non-negative,COALESCE(CAST(Temperature_C AS DECIMAL(20,10)), 0.0) >= 0,None))  |Success          |                  |\n|IoT Data Quality Checks|Error      |Success     |ComplianceConstraint(Compliance(Humidity_pct is non-negative,COALESCE(CAST(Humidity_pct AS DECIMAL(20,10)), 0.0) >= 0,None))    |Success          |                  |\n|IoT Data Quality Checks|Error      |Success     |ComplianceConstraint(Compliance(Vibration_mm_s is non-negative,COALESCE(CAST(Vibration_mm_s AS DECIMAL(20,10)), 0.0) >= 0,None))|Success          |                  |\n|IoT Data Quality Checks|Error      |Success     |ComplianceConstraint(Compliance(Pressure_bar is non-negative,COALESCE(CAST(Pressure_bar AS DECIMAL(20,10)), 0.0) >= 0,None))    |Success          |                  |\n|IoT Data Quality Checks|Error      |Success     |ComplianceConstraint(Compliance(Energy_kWh is non-negative,COALESCE(CAST(Energy_kWh AS DECIMAL(20,10)), 0.0) >= 0,None))        |Success          |                  |\n+-----------------------+-----------+------------+--------------------------------------------------------------------------------------------------------------------------------+-----------------+------------------+\n\n"
     ]
    }
   ],
   "source": [
    "# 4. Save Data Quality Result to Delta Table\n",
    "result_df = VerificationResult.checkResultsAsDataFrame(spark, result)\n",
    "result_df.show(truncate=False)\n",
    "\n",
    "result_df.write.format(\"delta\").mode(\"overwrite\").saveAsTable(\"iot_data_quality_results\")"
   ]
  },
  {
   "cell_type": "code",
   "execution_count": 0,
   "metadata": {
    "application/vnd.databricks.v1+cell": {
     "cellMetadata": {
      "byteLimit": 2048000,
      "rowLimit": 10000
     },
     "inputWidgets": {},
     "nuid": "b64968cc-90eb-40ee-9899-e9069b7c34b9",
     "showTitle": false,
     "tableResultSettingsMap": {},
     "title": ""
    }
   },
   "outputs": [],
   "source": [
    "# 5. Silver Layer - Add Fahrenheit column\n",
    "silver_df = df.withColumn(\"Temperature_F\", col(\"Temperature_C\") * 9/5 + 32)\n",
    "silver_df.write.format(\"delta\").mode(\"overwrite\").saveAsTable(\"iot_silver\")"
   ]
  },
  {
   "cell_type": "code",
   "execution_count": 0,
   "metadata": {
    "application/vnd.databricks.v1+cell": {
     "cellMetadata": {
      "byteLimit": 2048000,
      "rowLimit": 10000
     },
     "inputWidgets": {},
     "nuid": "ee258b34-8e06-4600-94e1-255fc72deea8",
     "showTitle": false,
     "tableResultSettingsMap": {},
     "title": ""
    }
   },
   "outputs": [],
   "source": [
    "from pyspark.sql import functions as F\n",
    "\n",
    "# Gold Layer - Aggregate per Plant with safe column names\n",
    "gold_df = silver_df.groupBy(\"PlantID\").agg(\n",
    "    F.avg(\"Temperature_C\").alias(\"avg_temperature_c\"),\n",
    "    F.max(\"Vibration_mm_s\").alias(\"max_vibration_mm_s\"),\n",
    "    F.min(\"Pressure_bar\").alias(\"min_pressure_bar\")\n",
    ")\n",
    "\n",
    "gold_df.write.format(\"delta\").mode(\"overwrite\").saveAsTable(\"iot_gold\")\n"
   ]
  },
  {
   "cell_type": "code",
   "execution_count": 0,
   "metadata": {
    "application/vnd.databricks.v1+cell": {
     "cellMetadata": {
      "byteLimit": 2048000,
      "rowLimit": 10000
     },
     "inputWidgets": {},
     "nuid": "653ab798-bd27-4c91-b792-d95ed27353a2",
     "showTitle": false,
     "tableResultSettingsMap": {},
     "title": ""
    }
   },
   "outputs": [],
   "source": [
    "silver_path = \"wasbs://folder@storage1srs.blob.core.windows.net/output/iot_silver\"\n",
    "gold_path = \"wasbs://folder@storage1srs.blob.core.windows.net/output/iot_gold\"\n",
    "gold_df.write.format(\"delta\").mode(\"overwrite\").save(gold_path)\n",
    "silver_df.write.format(\"delta\").mode(\"overwrite\").save(silver_path)\n",
    "\n",
    "\n"
   ]
  },
  {
   "cell_type": "code",
   "execution_count": 0,
   "metadata": {
    "application/vnd.databricks.v1+cell": {
     "cellMetadata": {
      "byteLimit": 2048000,
      "rowLimit": 10000
     },
     "inputWidgets": {},
     "nuid": "73af67e3-fb3c-43cc-bd1e-a192881e71ef",
     "showTitle": false,
     "tableResultSettingsMap": {},
     "title": ""
    }
   },
   "outputs": [
    {
     "output_type": "stream",
     "name": "stdout",
     "output_type": "stream",
     "text": [
      "=== Deequ Report ===\n[\n    {\n        \"check_status\": \"Success\",\n        \"check_level\": \"Error\",\n        \"constraint_status\": \"Success\",\n        \"check\": \"IoT Data Quality Checks\",\n        \"constraint_message\": \"\",\n        \"constraint\": \"SizeConstraint(Size(None))\"\n    },\n    {\n        \"check_status\": \"Success\",\n        \"check_level\": \"Error\",\n        \"constraint_status\": \"Success\",\n        \"check\": \"IoT Data Quality Checks\",\n        \"constraint_message\": \"\",\n        \"constraint\": \"ComplianceConstraint(Compliance(Temperature_C is non-negative,COALESCE(CAST(Temperature_C AS DECIMAL(20,10)), 0.0) >= 0,None))\"\n    },\n    {\n        \"check_status\": \"Success\",\n        \"check_level\": \"Error\",\n        \"constraint_status\": \"Success\",\n        \"check\": \"IoT Data Quality Checks\",\n        \"constraint_message\": \"\",\n        \"constraint\": \"ComplianceConstraint(Compliance(Humidity_pct is non-negative,COALESCE(CAST(Humidity_pct AS DECIMAL(20,10)), 0.0) >= 0,None))\"\n    },\n    {\n        \"check_status\": \"Success\",\n        \"check_level\": \"Error\",\n        \"constraint_status\": \"Success\",\n        \"check\": \"IoT Data Quality Checks\",\n        \"constraint_message\": \"\",\n        \"constraint\": \"ComplianceConstraint(Compliance(Vibration_mm_s is non-negative,COALESCE(CAST(Vibration_mm_s AS DECIMAL(20,10)), 0.0) >= 0,None))\"\n    },\n    {\n        \"check_status\": \"Success\",\n        \"check_level\": \"Error\",\n        \"constraint_status\": \"Success\",\n        \"check\": \"IoT Data Quality Checks\",\n        \"constraint_message\": \"\",\n        \"constraint\": \"ComplianceConstraint(Compliance(Pressure_bar is non-negative,COALESCE(CAST(Pressure_bar AS DECIMAL(20,10)), 0.0) >= 0,None))\"\n    },\n    {\n        \"check_status\": \"Success\",\n        \"check_level\": \"Error\",\n        \"constraint_status\": \"Success\",\n        \"check\": \"IoT Data Quality Checks\",\n        \"constraint_message\": \"\",\n        \"constraint\": \"ComplianceConstraint(Compliance(Energy_kWh is non-negative,COALESCE(CAST(Energy_kWh AS DECIMAL(20,10)), 0.0) >= 0,None))\"\n    }\n]\n"
     ]
    }
   ],
   "source": [
    "print(\"=== Deequ Report ===\")\n",
    "print(report_json)\n",
    " \n"
   ]
  },
  {
   "cell_type": "code",
   "execution_count": 0,
   "metadata": {
    "application/vnd.databricks.v1+cell": {
     "cellMetadata": {
      "byteLimit": 2048000,
      "rowLimit": 10000
     },
     "inputWidgets": {},
     "nuid": "1b28d0ac-4df2-4e8b-b0cd-603864b3744c",
     "showTitle": false,
     "tableResultSettingsMap": {},
     "title": ""
    }
   },
   "outputs": [
    {
     "output_type": "stream",
     "name": "stdout",
     "output_type": "stream",
     "text": [
      " JSON saved at dbfs:/FileStore/shared_uploads/traininguser5@sudosu.ai/deequ_result.json\n{\n    \"result\": [\n        {\n            \"check\": \"IoT Data Quality Checks\",\n            \"check_level\": \"Error\",\n            \"check_status\": \"Success\",\n            \"constraint\": \"SizeConstraint(Size(None))\",\n            \"constraint_status\": \"Success\",\n            \"constraint_message\": \"\"\n        },\n        {\n            \"check\": \"IoT Data Quality Checks\",\n            \"check_level\": \"Error\",\n            \"check_status\": \"Success\",\n            \"constraint\": \"ComplianceConstraint(Compliance(Temperature_C is non-negative,COALESCE(CAST(Temperature_C AS DECIMAL(20,10)), 0.0) >= 0,None))\",\n            \"constraint_status\": \"Success\",\n            \"constraint_message\": \"\"\n        },\n        {\n            \"check\": \"IoT Data Quality Checks\",\n            \"check_level\": \"Error\",\n            \"check_status\": \"Success\",\n            \"constraint\": \"ComplianceConstraint(Compliance(Humidity_pct is non-negative,COALESCE(CAST(Humidity_pct AS DECIMAL(20,10)), 0.0) >= 0,None))\",\n            \"constraint_status\": \"Success\",\n            \"constraint_message\": \"\"\n        },\n        {\n            \"check\": \"IoT Data Quality Checks\",\n            \"check_level\": \"Error\",\n            \"check_status\": \"Success\",\n            \"constraint\": \"ComplianceConstraint(Compliance(Vibration_mm_s is non-negative,COALESCE(CAST(Vibration_mm_s AS DECIMAL(20,10)), 0.0) >= 0,None))\",\n            \"constraint_status\": \"Success\",\n            \"constraint_message\": \"\"\n        },\n        {\n            \"check\": \"IoT Data Quality Checks\",\n            \"check_level\": \"Error\",\n            \"check_status\": \"Success\",\n            \"constraint\": \"ComplianceConstraint(Compliance(Pressure_bar is non-negative,COALESCE(CAST(Pressure_bar AS DECIMAL(20,10)), 0.0) >= 0,None))\",\n            \"constraint_status\": \"Success\",\n            \"constraint_message\": \"\"\n        },\n        {\n            \"check\": \"IoT Data Quality Checks\",\n            \"check_level\": \"Error\",\n            \"check_status\": \"Success\",\n            \"constraint\": \"ComplianceConstraint(Compliance(Energy_kWh is non-negative,COALESCE(CAST(Energy_kWh AS DECIMAL(20,10)), 0.0) >= 0,None))\",\n            \"constraint_status\": \"Success\",\n            \"constraint_message\": \"\"\n        }\n    ]\n}\nDeequ checks passed \n"
     ]
    },
    {
     "output_type": "stream",
     "name": "stderr",
     "output_type": "stream",
     "text": [
      "/databricks/spark/python/pyspark/sql/dataframe.py:163: UserWarning: DataFrame constructor is internal. Do not directly use it.\n  warnings.warn(\"DataFrame constructor is internal. Do not directly use it.\")\n"
     ]
    }
   ],
   "source": [
    "import json\n",
    "from pydeequ.verification import VerificationResult\n",
    "\n",
    "# Convert to Spark DF\n",
    "result_df = VerificationResult.checkResultsAsDataFrame(spark, result)\n",
    "\n",
    "# Collect to Python list of dicts\n",
    "result_list = [row.asDict() for row in result_df.collect()]\n",
    "result_dict = {\"result\": result_list}\n",
    "\n",
    "# Write single JSON file to DBFS (using local path /dbfs/)\n",
    "local_path = \"/dbfs/FileStore/shared_uploads/traininguser5@sudosu.ai/deequ_result.json\"\n",
    "with open(local_path, \"w\") as f:\n",
    "    json.dump(result_dict, f, indent=4)\n",
    "\n",
    "print(f\" JSON saved at dbfs:/FileStore/shared_uploads/traininguser5@sudosu.ai/deequ_result.json\")\n",
    "\n",
    "# Read as text\n",
    "with open(\"/dbfs/FileStore/shared_uploads/traininguser5@sudosu.ai/deequ_result.json\", \"r\") as f:\n",
    "    print(f.read())\n",
    "    \n",
    "if any(r.get(\"check_status\") != \"Success\" for r in result_list):\n",
    "    raise SystemExit(\"Data quality checks failed\")\n",
    "\n",
    "print(\"Deequ checks passed \")"
   ]
  }
 ],
 "metadata": {
  "application/vnd.databricks.v1+notebook": {
   "computePreferences": null,
   "dashboards": [],
   "environmentMetadata": {
    "base_environment": "",
    "environment_version": "2"
   },
   "inputWidgetPreferences": null,
   "language": "python",
   "notebookMetadata": {
    "pythonIndentUnit": 4
   },
   "notebookName": "CaseStudy5",
   "widgets": {
    "input_path": {
     "currentValue": "output/",
     "nuid": "11292155-5e2f-4411-91fc-60ea23b08722",
     "typedWidgetInfo": {
      "autoCreated": false,
      "defaultValue": "",
      "label": null,
      "name": "input_path",
      "options": {
       "widgetDisplayType": "Text",
       "validationRegex": null
      },
      "parameterDataType": "String"
     },
     "widgetInfo": {
      "widgetType": "text",
      "defaultValue": "",
      "label": null,
      "name": "input_path",
      "options": {
       "widgetType": "text",
       "autoCreated": null,
       "validationRegex": null
      }
     }
    }
   }
  },
  "language_info": {
   "name": "python"
  }
 },
 "nbformat": 4,
 "nbformat_minor": 0
}